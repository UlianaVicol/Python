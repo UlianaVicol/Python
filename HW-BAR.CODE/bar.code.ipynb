{
 "cells": [
  {
   "cell_type": "code",
   "execution_count": 2,
   "metadata": {},
   "outputs": [],
   "source": [
    "symbolBarCode = \"🁢\""
   ]
  },
  {
   "cell_type": "code",
   "execution_count": 3,
   "metadata": {},
   "outputs": [],
   "source": [
    "def createBarCode(number):\n",
    "    number_string = f\"{number}\"\n",
    "    number_encoded =\"\"\n",
    "    bar_code = \"\"\n",
    "    \n",
    "    for i in range(len(number_string)):\n",
    "        digit = int(number_string[i])\n",
    "        \n",
    "        digit_encoded = f\"{digit:04b}\"\n",
    "        \n",
    "        number_encoded += digit_encoded\n",
    "        \n",
    "    for i in range(len(number_encoded)):\n",
    "        digit = number_encoded[i]\n",
    "        if digit == \"1\":\n",
    "            bar_code += symbolBarCode\n",
    "        elif digit ==\"0\":\n",
    "            bar_code += \" \"\n",
    "\n",
    "    bar_code = (bar_code + \"\\n\") * 10\n",
    "    return bar_code"
   ]
  },
  {
   "cell_type": "code",
   "execution_count": 4,
   "metadata": {},
   "outputs": [],
   "source": [
    "def scanBarCode(code):\n",
    "    number = 0\n",
    "    number_encoded = \"\"\n",
    "    number_string = \"\"\n",
    "    code_simplified = code[:36]\n",
    "    \n",
    "    for i in range(len(code_simplified)):\n",
    "        symbol = code_simplified[i]\n",
    "        if symbol == symbolBarCode:\n",
    "            number_encoded += \"1\"\n",
    "        elif symbol == \" \":\n",
    "            number_encoded += \"0\"\n",
    "        \n",
    "    \n",
    "    for i in range(9):\n",
    "        digit_bits = number_encoded[i*4:(i+1)*4]\n",
    "        digit = int(digit_bits, 2)\n",
    "        number_string += f\"{digit:d}\"\n",
    "    \n",
    "    number = int(number_string)\n",
    "    return number"
   ]
  },
  {
   "cell_type": "code",
   "execution_count": 5,
   "metadata": {},
   "outputs": [
    {
     "name": "stdout",
     "output_type": "stream",
     "text": [
      "   🁢  🁢   🁢🁢 🁢   🁢 🁢 🁢🁢  🁢🁢🁢🁢   🁢  🁢\n",
      "   🁢  🁢   🁢🁢 🁢   🁢 🁢 🁢🁢  🁢🁢🁢🁢   🁢  🁢\n",
      "   🁢  🁢   🁢🁢 🁢   🁢 🁢 🁢🁢  🁢🁢🁢🁢   🁢  🁢\n",
      "   🁢  🁢   🁢🁢 🁢   🁢 🁢 🁢🁢  🁢🁢🁢🁢   🁢  🁢\n",
      "   🁢  🁢   🁢🁢 🁢   🁢 🁢 🁢🁢  🁢🁢🁢🁢   🁢  🁢\n",
      "   🁢  🁢   🁢🁢 🁢   🁢 🁢 🁢🁢  🁢🁢🁢🁢   🁢  🁢\n",
      "   🁢  🁢   🁢🁢 🁢   🁢 🁢 🁢🁢  🁢🁢🁢🁢   🁢  🁢\n",
      "   🁢  🁢   🁢🁢 🁢   🁢 🁢 🁢🁢  🁢🁢🁢🁢   🁢  🁢\n",
      "   🁢  🁢   🁢🁢 🁢   🁢 🁢 🁢🁢  🁢🁢🁢🁢   🁢  🁢\n",
      "   🁢  🁢   🁢🁢 🁢   🁢 🁢 🁢🁢  🁢🁢🁢🁢   🁢  🁢\n",
      "\n",
      "123456789\n"
     ]
    }
   ],
   "source": [
    "## Using our encoding function\n",
    "\n",
    "b_code = createBarCode(123456789)\n",
    "print(b_code)\n",
    "\n",
    "number = scanBarCode(b_code)\n",
    "print(number)"
   ]
  }
 ],
 "metadata": {
  "interpreter": {
   "hash": "a42ccb73e7d9bfdf27e036f1d2b8b681e55fc0743cc5586bc2474d4a60f4b886"
  },
  "kernelspec": {
   "display_name": "Python 3.10.2 64-bit",
   "language": "python",
   "name": "python3"
  },
  "language_info": {
   "codemirror_mode": {
    "name": "ipython",
    "version": 3
   },
   "file_extension": ".py",
   "mimetype": "text/x-python",
   "name": "python",
   "nbconvert_exporter": "python",
   "pygments_lexer": "ipython3",
   "version": "3.10.2"
  },
  "orig_nbformat": 4
 },
 "nbformat": 4,
 "nbformat_minor": 2
}
