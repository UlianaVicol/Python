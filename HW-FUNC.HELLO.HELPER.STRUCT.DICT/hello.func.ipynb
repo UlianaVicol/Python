{
 "cells": [
  {
   "cell_type": "code",
   "execution_count": 39,
   "metadata": {},
   "outputs": [],
   "source": [
    "# function definition\n",
    "def hi(lang, name):\n",
    "    if lang == \"en\":\n",
    "        print(f\"Hello {name}!\")\n",
    "    elif lang == \"ro\":\n",
    "        print(f\"Buna {name}!\")\n",
    "    elif lang == \"ru\":\n",
    "        print(f\"Привет {name}!\")\n",
    "    else:\n",
    "        print(f\"Error! <{lang}> is not recognized!!!\")\n",
    "\n",
    "# HW1: add second parameter - name (person name)\n",
    "# hi(\"en\", \"John\")  -> Hello John!"
   ]
  },
  {
   "cell_type": "code",
   "execution_count": 40,
   "metadata": {},
   "outputs": [
    {
     "name": "stdout",
     "output_type": "stream",
     "text": [
      "Hello John!\n",
      "Buna Ionut!\n",
      "Привет Иван!\n",
      "Error! <tr> is not recognized!!!\n"
     ]
    }
   ],
   "source": [
    "# function call\n",
    "hi(\"en\", \"John\")\n",
    "hi(\"ro\", \"Ionut\")\n",
    "hi(\"ru\", \"Иван\")\n",
    "hi(\"tr\", \"Türkiye\")"
   ]
  }
 ],
 "metadata": {
  "interpreter": {
   "hash": "a42ccb73e7d9bfdf27e036f1d2b8b681e55fc0743cc5586bc2474d4a60f4b886"
  },
  "kernelspec": {
   "display_name": "Python 3.10.2 64-bit",
   "language": "python",
   "name": "python3"
  },
  "language_info": {
   "codemirror_mode": {
    "name": "ipython",
    "version": 3
   },
   "file_extension": ".py",
   "mimetype": "text/x-python",
   "name": "python",
   "nbconvert_exporter": "python",
   "pygments_lexer": "ipython3",
   "version": "3.10.2"
  },
  "orig_nbformat": 4
 },
 "nbformat": 4,
 "nbformat_minor": 2
}
