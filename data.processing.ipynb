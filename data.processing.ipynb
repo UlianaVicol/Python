{
 "cells": [
  {
   "cell_type": "code",
   "execution_count": 34,
   "metadata": {},
   "outputs": [
    {
     "name": "stdout",
     "output_type": "stream",
     "text": [
      "[[0.25 0.5 ]\n",
      " [0.75 1.  ]]\n",
      "duration in seconds    0.008975\n"
     ]
    }
   ],
   "source": [
    "from matplotlib import pyplot as plt\n",
    "from time import time\n",
    "## Let's test a simple 2d list\n",
    "data = [\n",
    "    [1,2], # [0.25, 0.5]\n",
    "    [3,4], # [0.75, 1.0]\n",
    "]\n",
    "t0 = time()\n",
    "data_f = []\n",
    "for ri in range(2):\n",
    "    for ci in range(2):\n",
    "        data_f.append(data[ri][ci])\n",
    "# normalization -> 0..1\n",
    "#data = data /4\n",
    "max_v = max(data_f)\n",
    "for ri in range(2):\n",
    "    for ci in range(2):\n",
    "        data[ri][ci] /= max_v\n",
    "t1 = time()\n",
    "print(data)\n",
    "print(f\"duration in seconds{t1-t0:12.6f}\")"
   ]
  },
  {
   "cell_type": "code",
   "execution_count": 38,
   "metadata": {},
   "outputs": [
    {
     "name": "stdout",
     "output_type": "stream",
     "text": [
      "[[0.25 0.5 ]\n",
      " [0.75 1.  ]]\n",
      "duration in seconds    0.000997\n"
     ]
    }
   ],
   "source": [
    "import numpy as np\n",
    "## solution with numpy\n",
    "\n",
    "## wrap in numpy array\n",
    "\n",
    "data = np.array([\n",
    "    [1,2],  # [0.25, 0.5]\n",
    "    [3,4],  # [0.75, 1.0]\n",
    "])\n",
    "t0 = time()\n",
    "\n",
    "data = data / data.max()\n",
    "t1 = time()\n",
    "\n",
    "print(data)\n",
    "print(f\"duration in seconds{t1-t0:12.6f}\")\n",
    "\n"
   ]
  },
  {
   "cell_type": "code",
   "execution_count": 77,
   "metadata": {},
   "outputs": [
    {
     "data": {
      "image/png": "[encoded data removed]",
      "text/plain": [
       "<Figure size 432x288 with 1 Axes>"
      ]
     },
     "metadata": {},
     "output_type": "display_data"
    }
   ],
   "source": [
    "\n",
    "from matplotlib import pyplot as plt\n",
    "\n",
    "y_num = np.array([35, 25, 25, 15])\n",
    "my_labels = [\"A\", \"B\", \"C\", \"D\"]\n",
    "my_expl = [0.1, 0.2, 0, 0]\n",
    "my_colors = [\"brown\", \"DarkCyan\", \"DarkOrange\", \"Gold\"]\n",
    "plt.pie(y_num, labels = my_labels, explode = my_expl, colors = my_colors, shadow = True)\n",
    "plt.legend(title = \"Four Colors:\")\n",
    "plt.show() "
   ]
  },
  {
   "cell_type": "code",
   "execution_count": 80,
   "metadata": {},
   "outputs": [
    {
     "ename": "IndexError",
     "evalue": "index 5 is out of bounds for axis 0 with size 5",
     "output_type": "error",
     "traceback": [
      "\u001b[1;31m---------------------------------------------------------------------------\u001b[0m",
      "\u001b[1;31mIndexError\u001b[0m                                Traceback (most recent call last)",
      "\u001b[1;32md:\\uliana\\PYTHON-basics\\lectia14- env-numpy-data-processing\\HW-NUMPY\\data.processing.ipynb Cell 4'\u001b[0m in \u001b[0;36m<cell line: 9>\u001b[1;34m()\u001b[0m\n\u001b[0;32m      <a href='vscode-notebook-cell:/d%3A/uliana/PYTHON-basics/lectia14-%20env-numpy-data-processing/HW-NUMPY/data.processing.ipynb#ch0000042?line=8'>9</a>\u001b[0m \u001b[39mfor\u001b[39;00m ri \u001b[39min\u001b[39;00m \u001b[39mrange\u001b[39m(\u001b[39m4\u001b[39m):\n\u001b[0;32m     <a href='vscode-notebook-cell:/d%3A/uliana/PYTHON-basics/lectia14-%20env-numpy-data-processing/HW-NUMPY/data.processing.ipynb#ch0000042?line=9'>10</a>\u001b[0m     \u001b[39mfor\u001b[39;00m ci \u001b[39min\u001b[39;00m \u001b[39mrange\u001b[39m(\u001b[39m4\u001b[39m):\n\u001b[1;32m---> <a href='vscode-notebook-cell:/d%3A/uliana/PYTHON-basics/lectia14-%20env-numpy-data-processing/HW-NUMPY/data.processing.ipynb#ch0000042?line=10'>11</a>\u001b[0m         pixel \u001b[39m=\u001b[39m (image_data_small[ri\u001b[39m*\u001b[39m\u001b[39m2\u001b[39m][ci\u001b[39m*\u001b[39m\u001b[39m2\u001b[39m] \u001b[39m+\u001b[39m image_data_small[ri\u001b[39m*\u001b[39;49m\u001b[39m2\u001b[39;49m][ci\u001b[39m*\u001b[39;49m\u001b[39m2\u001b[39;49m\u001b[39m+\u001b[39;49m\u001b[39m1\u001b[39;49m] \u001b[39m+\u001b[39m image_data_small[ri\u001b[39m*\u001b[39m\u001b[39m2\u001b[39m\u001b[39m+\u001b[39m\u001b[39m1\u001b[39m][ci\u001b[39m*\u001b[39m\u001b[39m2\u001b[39m] \u001b[39m+\u001b[39m image_data_small[ri\u001b[39m*\u001b[39m\u001b[39m2\u001b[39m\u001b[39m+\u001b[39m\u001b[39m1\u001b[39m][ci\u001b[39m*\u001b[39m\u001b[39m2\u001b[39m\u001b[39m+\u001b[39m\u001b[39m1\u001b[39m]) \u001b[39m/\u001b[39m \u001b[39m4\u001b[39m\n\u001b[0;32m     <a href='vscode-notebook-cell:/d%3A/uliana/PYTHON-basics/lectia14-%20env-numpy-data-processing/HW-NUMPY/data.processing.ipynb#ch0000042?line=11'>12</a>\u001b[0m         image_data_small[ri][ci] \u001b[39m=\u001b[39m pixel\n\u001b[0;32m     <a href='vscode-notebook-cell:/d%3A/uliana/PYTHON-basics/lectia14-%20env-numpy-data-processing/HW-NUMPY/data.processing.ipynb#ch0000042?line=13'>14</a>\u001b[0m plt\u001b[39m.\u001b[39mimshow(image_data_small, cmap\u001b[39m=\u001b[39m\u001b[39m'\u001b[39m\u001b[39mgray\u001b[39m\u001b[39m'\u001b[39m)\n",
      "\u001b[1;31mIndexError\u001b[0m: index 5 is out of bounds for axis 0 with size 5"
     ]
    }
   ],
   "source": [
    "\n",
    "from matplotlib import pyplot as plt\n",
    "image_data_small = np.array([\n",
    "    [0, 0, 0, 0, 0,],\n",
    "    [0, 0, 0, 0, 0,],\n",
    "    [0, 0, 0, 0, 0,],\n",
    "    [0, 0, 0, 0, 0,],\n",
    "    [0, 0, 0, 0, 0,],\n",
    "])\n",
    "for ri in range(4):\n",
    "    for ci in range(4):\n",
    "        pixel = (image_data_small[ri*2][ci*2] + image_data_small[ri*2][ci*2+1] + image_data_small[ri*2+1][ci*2] + image_data_small[ri*2+1][ci*2+1]) / 4\n",
    "        image_data_small[ri][ci] = pixel\n",
    "\n",
    "plt.imshow(image_data_small, cmap='gray')\n",
    "plt.show()"
   ]
  }
 ],
 "metadata": {
  "interpreter": {
   "hash": "bfb4883d108fc92ac768439090a2e92bb9a1f760a54beeecfd6762b5dcd70fe3"
  },
  "kernelspec": {
   "display_name": "Python 3.10.2 64-bit",
   "language": "python",
   "name": "python3"
  },
  "language_info": {
   "codemirror_mode": {
    "name": "ipython",
    "version": 3
   },
   "file_extension": ".py",
   "mimetype": "text/x-python",
   "name": "python",
   "nbconvert_exporter": "python",
   "pygments_lexer": "ipython3",
   "version": "3.10.2"
  },
  "orig_nbformat": 4
 },
 "nbformat": 4,
 "nbformat_minor": 2
}
